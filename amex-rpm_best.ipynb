{
 "cells": [
  {
   "cell_type": "code",
   "execution_count": null,
   "metadata": {
    "execution": {
     "iopub.execute_input": "2025-07-27T05:24:53.682499Z",
     "iopub.status.busy": "2025-07-27T05:24:53.682298Z",
     "iopub.status.idle": "2025-07-27T05:24:53.687052Z",
     "shell.execute_reply": "2025-07-27T05:24:53.686366Z",
     "shell.execute_reply.started": "2025-07-27T05:24:53.682483Z"
    },
    "trusted": true
   },
   "outputs": [],
   "source": [
    "# AMex timeseries \n",
    "import pandas as pd\n",
    "import numpy as np\n",
    "import xgboost as xgb\n",
    "from sklearn.metrics import accuracy_score, roc_auc_score, f1_score\n",
    "from sklearn.preprocessing import LabelEncoder\n",
    "from tqdm import tqdm"
   ]
  },
  {
   "cell_type": "code",
   "execution_count": 3,
   "metadata": {
    "execution": {
     "iopub.execute_input": "2025-07-27T05:24:53.688019Z",
     "iopub.status.busy": "2025-07-27T05:24:53.687795Z",
     "iopub.status.idle": "2025-07-27T05:25:11.142893Z",
     "shell.execute_reply": "2025-07-27T05:25:11.142332Z",
     "shell.execute_reply.started": "2025-07-27T05:24:53.687998Z"
    },
    "trusted": true
   },
   "outputs": [],
   "source": [
    "# ========================\n",
    "# 1. Load and Preprocess\n",
    "# ========================\n",
    "df = pd.read_parquet('/kaggle/input/amex-dataset/amex/train_data.parquet')\n",
    "df['id4'] = pd.to_datetime(df['id4'])  # Ensure datetime\n",
    "test_df = pd.read_parquet('/kaggle/input/amex-prv-r3/test_data_r3.parquet')\n",
    "test_df['id4'] = pd.to_datetime(test_df['id4'])  # Ensure datetime"
   ]
  },
  {
   "cell_type": "code",
   "execution_count": 4,
   "metadata": {
    "execution": {
     "iopub.execute_input": "2025-07-27T05:25:11.146666Z",
     "iopub.status.busy": "2025-07-27T05:25:11.146351Z",
     "iopub.status.idle": "2025-07-27T05:25:24.608676Z",
     "shell.execute_reply": "2025-07-27T05:25:24.607974Z",
     "shell.execute_reply.started": "2025-07-27T05:25:11.146641Z"
    },
    "trusted": true
   },
   "outputs": [],
   "source": [
    "# Drop high-null columns\n",
    "null_pct = df.isnull().mean()\n",
    "cols_to_drop = null_pct[null_pct > 0.90].index.tolist()\n",
    "ctd =   ['f365','f125']   #['f125', 'f127', 'f140', 'f141', 'f142', 'f143', 'f362', 'f365']\n",
    "df.drop(columns=cols_to_drop+ctd, inplace=True)\n",
    "df['y'] = pd.to_numeric(df['y'], errors='coerce').fillna(0).astype(int)"
   ]
  },
  {
   "cell_type": "code",
   "execution_count": 5,
   "metadata": {
    "execution": {
     "iopub.execute_input": "2025-07-27T05:25:24.609554Z",
     "iopub.status.busy": "2025-07-27T05:25:24.609291Z",
     "iopub.status.idle": "2025-07-27T05:25:25.967750Z",
     "shell.execute_reply": "2025-07-27T05:25:25.967147Z",
     "shell.execute_reply.started": "2025-07-27T05:25:24.609536Z"
    },
    "trusted": true
   },
   "outputs": [],
   "source": [
    "test_df.drop(columns=cols_to_drop, inplace=True)"
   ]
  },
  {
   "cell_type": "code",
   "execution_count": 6,
   "metadata": {
    "execution": {
     "iopub.execute_input": "2025-07-27T05:25:25.969565Z",
     "iopub.status.busy": "2025-07-27T05:25:25.969269Z",
     "iopub.status.idle": "2025-07-27T05:25:48.669231Z",
     "shell.execute_reply": "2025-07-27T05:25:48.668642Z",
     "shell.execute_reply.started": "2025-07-27T05:25:25.969541Z"
    },
    "trusted": true
   },
   "outputs": [],
   "source": [
    "# Step 2: Sort chronologically\n",
    "df = df.sort_values(by=['id4', 'id2']).reset_index(drop=True)\n",
    "test_df = test_df.sort_values(by=['id4', 'id2']).reset_index(drop=True)"
   ]
  },
  {
   "cell_type": "code",
   "execution_count": 7,
   "metadata": {
    "execution": {
     "iopub.execute_input": "2025-07-27T05:25:48.670937Z",
     "iopub.status.busy": "2025-07-27T05:25:48.670395Z",
     "iopub.status.idle": "2025-07-27T05:25:54.019150Z",
     "shell.execute_reply": "2025-07-27T05:25:54.018353Z",
     "shell.execute_reply.started": "2025-07-27T05:25:48.670916Z"
    },
    "trusted": true
   },
   "outputs": [],
   "source": [
    "\n",
    "cutoff_time = df['id4'].iloc[(int)(770164*0.90)]\n",
    "train_df = df[df['id4'] < cutoff_time].copy()\n",
    "val_df = df[df['id4'] >= cutoff_time].copy()"
   ]
  },
  {
   "cell_type": "code",
   "execution_count": 8,
   "metadata": {
    "execution": {
     "iopub.execute_input": "2025-07-27T05:25:54.020439Z",
     "iopub.status.busy": "2025-07-27T05:25:54.020146Z",
     "iopub.status.idle": "2025-07-27T05:25:54.030565Z",
     "shell.execute_reply": "2025-07-27T05:25:54.029773Z",
     "shell.execute_reply.started": "2025-07-27T05:25:54.020412Z"
    },
    "trusted": true
   },
   "outputs": [],
   "source": [
    "def generate_time_features(df, time_col='id4', user_col='id2', offer_col='id3', session_gap_seconds=1800, recent_window=3600):\n",
    "    df = df.sort_values(by=[user_col, time_col]).copy()\n",
    "    \n",
    "    # 1. Time Since Last Event (User)\n",
    "    df['user_prev_time'] = df.groupby(user_col)[time_col].shift(1)\n",
    "    df['time_since_last_event'] = (df[time_col] - df['user_prev_time']).dt.total_seconds().fillna(-1)\n",
    "\n",
    "    # 2. Time Since First Event (User/Offer)\n",
    "    df['user_first_time'] = df.groupby(user_col)[time_col].transform('min')\n",
    "    df['offer_first_time'] = df.groupby(offer_col)[time_col].transform('min')\n",
    "    df['user_time_since_first_event'] = (df[time_col] - df['user_first_time']).dt.total_seconds()\n",
    "    df['offer_time_since_first_event'] = (df[time_col] - df['offer_first_time']).dt.total_seconds()\n",
    "\n",
    "    # 4. Assign Session IDs\n",
    "    df['gap'] = (df[time_col] - df['user_prev_time']).dt.total_seconds()\n",
    "    df['new_session'] = (df['gap'] > session_gap_seconds).fillna(True).astype(int)\n",
    "    df['session_id'] = df.groupby(user_col)['new_session'].cumsum()\n",
    "    \n",
    "    # 5. Time Since Session Start\n",
    "    df['session_start_time'] = df.groupby([user_col, 'session_id'])[time_col].transform('min')\n",
    "    df['time_since_session_start'] = (df[time_col] - df['session_start_time']).dt.total_seconds()\n",
    "\n",
    "    # 6. Recent User Activity Count in Past X Seconds\n",
    "    # Note: Lightweight rolling window with limited lag\n",
    "    df['recent_user_activity'] = (\n",
    "        df.groupby(user_col)[time_col]\n",
    "          .transform(lambda x: x.diff().dt.total_seconds().rolling(10, min_periods=1)\n",
    "                     .apply(lambda s: (s <= recent_window).sum(), raw=True)).fillna(0)\n",
    "    )\n",
    "\n",
    "    # # 7. Time Context Features\n",
    "    df['hour'] = df[time_col].dt.hour\n",
    "    # df['dow'] = df[time_col].dt.dayofweek\n",
    "    # df['is_weekend'] = df['dow'].isin([5, 6]).astype(int)\n",
    "    \n",
    "    df['seen_offer_before'] = df.duplicated(subset=['id2', 'id3']).astype(int)\n",
    "    df['last_seen_offer_time'] = df.groupby(['id2', 'id3'])['id4'].shift(1)\n",
    "    df['time_since_last_offer'] = (df['id4'] - df['last_seen_offer_time']).dt.total_seconds().fillna(-1)\n",
    "    df['user_next_time'] = df.groupby('id2')['id4'].shift(-1)\n",
    "    df['time_until_next_event'] = (df['user_next_time'] - df['id4']).dt.total_seconds().fillna(-1)\n",
    "\n",
    "\n",
    "    # Drop temp columns\n",
    "    df.drop(columns=['gap', 'new_session', 'session_start_time', 'user_prev_time','last_seen_offer_time','user_next_time'], inplace=True)\n",
    "\n",
    "    return df\n"
   ]
  },
  {
   "cell_type": "code",
   "execution_count": 9,
   "metadata": {
    "execution": {
     "iopub.execute_input": "2025-07-27T05:27:51.221192Z",
     "iopub.status.busy": "2025-07-27T05:27:51.220892Z",
     "iopub.status.idle": "2025-07-27T05:29:07.942401Z",
     "shell.execute_reply": "2025-07-27T05:29:07.941767Z",
     "shell.execute_reply.started": "2025-07-27T05:27:51.221172Z"
    },
    "trusted": true
   },
   "outputs": [],
   "source": [
    "train_df['source'] = 'train'\n",
    "val_df['source'] = 'val'\n",
    "test_df['source']='test'\n",
    "df_all = pd.concat([train_df, val_df,test_df], axis=0)\n",
    "# Generate time-based features\n",
    "df_all = generate_time_features(df_all)\n",
    "# Split back\n",
    "train_df = df_all[df_all['source'] == 'train'].drop(columns=['source'])\n",
    "val_df   = df_all[df_all['source'] == 'val'].drop(columns=['source'])\n",
    "test_df = df_all[df_all['source'] == 'test'].drop(columns=['source'])"
   ]
  },
  {
   "cell_type": "code",
   "execution_count": 10,
   "metadata": {
    "execution": {
     "iopub.execute_input": "2025-07-27T05:29:07.943764Z",
     "iopub.status.busy": "2025-07-27T05:29:07.943508Z",
     "iopub.status.idle": "2025-07-27T05:29:08.090625Z",
     "shell.execute_reply": "2025-07-27T05:29:08.090003Z",
     "shell.execute_reply.started": "2025-07-27T05:29:07.943736Z"
    },
    "trusted": true
   },
   "outputs": [],
   "source": [
    "\n",
    "if 'id3' in train_df.columns:\n",
    "    train_df['offer_total_interactions'] = train_df.groupby('id3').cumcount()\n",
    "    train_df['offer_total_positives'] = train_df.groupby('id3')['y'].cumsum() - train_df['y']\n",
    "    train_df['offer_ctr'] = train_df['offer_total_positives'] / train_df['offer_total_interactions'].replace(0, 1)"
   ]
  },
  {
   "cell_type": "code",
   "execution_count": 11,
   "metadata": {
    "execution": {
     "iopub.execute_input": "2025-07-27T05:29:08.091701Z",
     "iopub.status.busy": "2025-07-27T05:29:08.091438Z",
     "iopub.status.idle": "2025-07-27T05:29:15.132009Z",
     "shell.execute_reply": "2025-07-27T05:29:15.131436Z",
     "shell.execute_reply.started": "2025-07-27T05:29:08.091679Z"
    },
    "trusted": true
   },
   "outputs": [
    {
     "name": "stderr",
     "output_type": "stream",
     "text": [
      "/tmp/ipykernel_36/706844505.py:8: FutureWarning: Downcasting object dtype arrays on .fillna, .ffill, .bfill is deprecated and will change in a future version. Call result.infer_objects(copy=False) instead. To opt-in to the future behavior, set `pd.set_option('future.no_silent_downcasting', True)`\n",
      "  val_df = val_df.merge(offer_agg, on='id3', how='left').fillna(0)\n"
     ]
    }
   ],
   "source": [
    "\n",
    "if 'id3' in train_df.columns:\n",
    "    offer_agg = train_df.groupby('id3')['y'].agg(\n",
    "        offer_total_interactions=('count'),\n",
    "        offer_total_positives=('sum')\n",
    "    ).assign(\n",
    "        offer_ctr=lambda df: df['offer_total_positives'] / df['offer_total_interactions'].replace(0, 1)\n",
    "    )\n",
    "    val_df = val_df.merge(offer_agg, on='id3', how='left').fillna(0)\n",
    "def drop_unwanted_ids(df):\n",
    "    return df.drop(columns=[col for col in df.columns if col.startswith('id') and col != 'id3' ], errors='ignore')\n",
    "X_train = drop_unwanted_ids(train_df.drop(columns=['y', 'id4' ], errors='ignore'))\n",
    "X_val = drop_unwanted_ids(val_df.drop(columns=['y', 'id4'], errors='ignore'))\n",
    "y_train = train_df['y'].values\n",
    "y_val = val_df['y'].values"
   ]
  },
  {
   "cell_type": "code",
   "execution_count": 12,
   "metadata": {
    "execution": {
     "iopub.execute_input": "2025-07-27T05:29:15.133692Z",
     "iopub.status.busy": "2025-07-27T05:29:15.133407Z",
     "iopub.status.idle": "2025-07-27T05:29:18.120300Z",
     "shell.execute_reply": "2025-07-27T05:29:18.119507Z",
     "shell.execute_reply.started": "2025-07-27T05:29:15.133672Z"
    },
    "trusted": true
   },
   "outputs": [],
   "source": [
    "X_train = X_train.drop(columns=['offer_first_time', 'user_first_time'], errors='ignore')\n",
    "X_val   = X_val.drop(columns=['offer_first_time', 'user_first_time'], errors='ignore')"
   ]
  },
  {
   "cell_type": "code",
   "execution_count": 13,
   "metadata": {
    "execution": {
     "iopub.execute_input": "2025-07-27T05:29:18.121373Z",
     "iopub.status.busy": "2025-07-27T05:29:18.121125Z",
     "iopub.status.idle": "2025-07-27T05:30:17.957417Z",
     "shell.execute_reply": "2025-07-27T05:30:17.956823Z",
     "shell.execute_reply.started": "2025-07-27T05:29:18.121349Z"
    },
    "trusted": true
   },
   "outputs": [
    {
     "name": "stderr",
     "output_type": "stream",
     "text": [
      "100%|██████████| 329/329 [00:57<00:00,  5.73it/s]\n"
     ]
    }
   ],
   "source": [
    "encoders = {}\n",
    "UNSEEN_CODE = {}\n",
    "for col in tqdm(X_train.select_dtypes(include='object').columns):\n",
    "    try:\n",
    "        # Attempt a numeric conversion\n",
    "        X_train[col] = pd.to_numeric(X_train[col])\n",
    "        X_val[col]   = pd.to_numeric(X_val[col])\n",
    "        continue      # if that worked, skip the categorical logic\n",
    "    except:\n",
    "        # Only columns that fail numeric conversion enter here:\n",
    "\n",
    "        # 1) Cast to string & fill na\n",
    "        X_train[col] = X_train[col].astype(str).fillna(\"NA\")\n",
    "        X_val[col]   = X_val[col].astype(str).fillna(\"NA\")\n",
    "\n",
    "        # 2) Fit encoder on train+val\n",
    "        le = LabelEncoder()\n",
    "        le.fit(list(X_train[col].unique()) + list(X_val[col].unique()))\n",
    "\n",
    "        # 3) Store encoder + reserve unseen code\n",
    "        encoders[col]    = le\n",
    "        UNSEEN_CODE[col] = le.classes_.shape[0]\n",
    "\n",
    "        # 4) Transform both splits\n",
    "        X_train[col] = le.transform(X_train[col])\n",
    "        X_val[col]   = le.transform(X_val[col])\n"
   ]
  },
  {
   "cell_type": "code",
   "execution_count": 14,
   "metadata": {
    "execution": {
     "iopub.execute_input": "2025-07-27T05:30:17.958800Z",
     "iopub.status.busy": "2025-07-27T05:30:17.958588Z",
     "iopub.status.idle": "2025-07-27T05:30:22.052909Z",
     "shell.execute_reply": "2025-07-27T05:30:22.052352Z",
     "shell.execute_reply.started": "2025-07-27T05:30:17.958783Z"
    },
    "trusted": true
   },
   "outputs": [],
   "source": [
    "# Align both train and val to have the exact same columns\n",
    "common_cols = list(set(X_train.columns) & set(X_val.columns))\n",
    "X_train = X_train[common_cols].copy()\n",
    "X_val = X_val[common_cols].copy()\n",
    "# OPTIONAL (for reproducibility & safety): sort columns identically\n",
    "X_train = X_train.sort_index(axis=1)\n",
    "X_val = X_val.sort_index(axis=1)"
   ]
  },
  {
   "cell_type": "code",
   "execution_count": 15,
   "metadata": {
    "execution": {
     "iopub.execute_input": "2025-07-27T05:30:22.053763Z",
     "iopub.status.busy": "2025-07-27T05:30:22.053580Z",
     "iopub.status.idle": "2025-07-27T05:30:26.182754Z",
     "shell.execute_reply": "2025-07-27T05:30:26.182191Z",
     "shell.execute_reply.started": "2025-07-27T05:30:22.053749Z"
    },
    "trusted": true
   },
   "outputs": [],
   "source": [
    "X_train.fillna(-999, inplace=True)\n",
    "X_val.fillna(-999, inplace=True)"
   ]
  },
  {
   "cell_type": "code",
   "execution_count": 16,
   "metadata": {
    "execution": {
     "iopub.execute_input": "2025-07-27T05:30:26.184055Z",
     "iopub.status.busy": "2025-07-27T05:30:26.183541Z",
     "iopub.status.idle": "2025-07-27T05:30:26.256761Z",
     "shell.execute_reply": "2025-07-27T05:30:26.256178Z",
     "shell.execute_reply.started": "2025-07-27T05:30:26.184030Z"
    },
    "trusted": true
   },
   "outputs": [],
   "source": [
    "from xgboost import XGBRanker\n",
    "\n",
    "# --- Group definitions for ranking ---\n",
    "group_train = train_df.groupby('id2').size().tolist()\n",
    "group_val = val_df.groupby('id2').size().tolist()\n",
    "\n",
    "# --- Model setup with your LB-tuned hyperparameters ---\n",
    "ranker1 = XGBRanker(\n",
    "    objective='rank:pairwise',           # MAP/Ranking objective\n",
    "    eval_metric='map@7',                 # Directly optimize leaderboard metric\n",
    "\n",
    "    # GPU & performance\n",
    "    tree_method='gpu_hist',\n",
    "    max_bin=1024,\n",
    "    nthread=4,\n",
    "    random_state=42,\n",
    "\n",
    "    # Learning & complexity\n",
    "    learning_rate=0.04420096546653645,\n",
    "    max_depth=12,\n",
    "    min_child_weight=46,\n",
    "    subsample=0.811764997184529,\n",
    "    colsample_bytree=0.6940853675702088,\n",
    "\n",
    "    # Regularization\n",
    "    reg_lambda=5.1983874679927515,\n",
    "    reg_alpha=4.307761284697946,\n",
    "\n",
    "    # Booster\n",
    "    n_estimators=5000,\n",
    "    verbosity=1\n",
    ")"
   ]
  },
  {
   "cell_type": "code",
   "execution_count": 17,
   "metadata": {
    "execution": {
     "iopub.execute_input": "2025-07-27T05:30:26.257814Z",
     "iopub.status.busy": "2025-07-27T05:30:26.257605Z",
     "iopub.status.idle": "2025-07-27T05:32:23.541741Z",
     "shell.execute_reply": "2025-07-27T05:32:23.540996Z",
     "shell.execute_reply.started": "2025-07-27T05:30:26.257797Z"
    },
    "trusted": true
   },
   "outputs": [
    {
     "name": "stderr",
     "output_type": "stream",
     "text": [
      "/usr/local/lib/python3.11/dist-packages/xgboost/sklearn.py:889: UserWarning: `early_stopping_rounds` in `fit` method is deprecated for better compatibility with scikit-learn, use `early_stopping_rounds` in constructor or`set_params` instead.\n",
      "  warnings.warn(\n",
      "/usr/local/lib/python3.11/dist-packages/xgboost/core.py:160: UserWarning: [05:30:39] WARNING: /workspace/src/common/error_msg.cc:27: The tree method `gpu_hist` is deprecated since 2.0.0. To use GPU training, set the `device` parameter to CUDA instead.\n",
      "\n",
      "    E.g. tree_method = \"hist\", device = \"cuda\"\n",
      "\n",
      "  warnings.warn(smsg, UserWarning)\n"
     ]
    },
    {
     "name": "stdout",
     "output_type": "stream",
     "text": [
      "[0]\tvalidation_0-map@7:0.95018\tvalidation_1-map@7:0.94789\n",
      "[50]\tvalidation_0-map@7:0.98640\tvalidation_1-map@7:0.97539\n",
      "[100]\tvalidation_0-map@7:0.98882\tvalidation_1-map@7:0.97622\n",
      "[150]\tvalidation_0-map@7:0.99045\tvalidation_1-map@7:0.97684\n",
      "[200]\tvalidation_0-map@7:0.99187\tvalidation_1-map@7:0.97736\n",
      "[250]\tvalidation_0-map@7:0.99305\tvalidation_1-map@7:0.97746\n",
      "[300]\tvalidation_0-map@7:0.99423\tvalidation_1-map@7:0.97769\n",
      "[350]\tvalidation_0-map@7:0.99521\tvalidation_1-map@7:0.97756\n",
      "[400]\tvalidation_0-map@7:0.99608\tvalidation_1-map@7:0.97776\n",
      "[450]\tvalidation_0-map@7:0.99665\tvalidation_1-map@7:0.97790\n",
      "[500]\tvalidation_0-map@7:0.99711\tvalidation_1-map@7:0.97792\n",
      "[550]\tvalidation_0-map@7:0.99759\tvalidation_1-map@7:0.97792\n",
      "[600]\tvalidation_0-map@7:0.99795\tvalidation_1-map@7:0.97781\n",
      "[628]\tvalidation_0-map@7:0.99812\tvalidation_1-map@7:0.97801\n"
     ]
    },
    {
     "data": {
      "text/html": [
       "<style>#sk-container-id-1 {color: black;background-color: white;}#sk-container-id-1 pre{padding: 0;}#sk-container-id-1 div.sk-toggleable {background-color: white;}#sk-container-id-1 label.sk-toggleable__label {cursor: pointer;display: block;width: 100%;margin-bottom: 0;padding: 0.3em;box-sizing: border-box;text-align: center;}#sk-container-id-1 label.sk-toggleable__label-arrow:before {content: \"▸\";float: left;margin-right: 0.25em;color: #696969;}#sk-container-id-1 label.sk-toggleable__label-arrow:hover:before {color: black;}#sk-container-id-1 div.sk-estimator:hover label.sk-toggleable__label-arrow:before {color: black;}#sk-container-id-1 div.sk-toggleable__content {max-height: 0;max-width: 0;overflow: hidden;text-align: left;background-color: #f0f8ff;}#sk-container-id-1 div.sk-toggleable__content pre {margin: 0.2em;color: black;border-radius: 0.25em;background-color: #f0f8ff;}#sk-container-id-1 input.sk-toggleable__control:checked~div.sk-toggleable__content {max-height: 200px;max-width: 100%;overflow: auto;}#sk-container-id-1 input.sk-toggleable__control:checked~label.sk-toggleable__label-arrow:before {content: \"▾\";}#sk-container-id-1 div.sk-estimator input.sk-toggleable__control:checked~label.sk-toggleable__label {background-color: #d4ebff;}#sk-container-id-1 div.sk-label input.sk-toggleable__control:checked~label.sk-toggleable__label {background-color: #d4ebff;}#sk-container-id-1 input.sk-hidden--visually {border: 0;clip: rect(1px 1px 1px 1px);clip: rect(1px, 1px, 1px, 1px);height: 1px;margin: -1px;overflow: hidden;padding: 0;position: absolute;width: 1px;}#sk-container-id-1 div.sk-estimator {font-family: monospace;background-color: #f0f8ff;border: 1px dotted black;border-radius: 0.25em;box-sizing: border-box;margin-bottom: 0.5em;}#sk-container-id-1 div.sk-estimator:hover {background-color: #d4ebff;}#sk-container-id-1 div.sk-parallel-item::after {content: \"\";width: 100%;border-bottom: 1px solid gray;flex-grow: 1;}#sk-container-id-1 div.sk-label:hover label.sk-toggleable__label {background-color: #d4ebff;}#sk-container-id-1 div.sk-serial::before {content: \"\";position: absolute;border-left: 1px solid gray;box-sizing: border-box;top: 0;bottom: 0;left: 50%;z-index: 0;}#sk-container-id-1 div.sk-serial {display: flex;flex-direction: column;align-items: center;background-color: white;padding-right: 0.2em;padding-left: 0.2em;position: relative;}#sk-container-id-1 div.sk-item {position: relative;z-index: 1;}#sk-container-id-1 div.sk-parallel {display: flex;align-items: stretch;justify-content: center;background-color: white;position: relative;}#sk-container-id-1 div.sk-item::before, #sk-container-id-1 div.sk-parallel-item::before {content: \"\";position: absolute;border-left: 1px solid gray;box-sizing: border-box;top: 0;bottom: 0;left: 50%;z-index: -1;}#sk-container-id-1 div.sk-parallel-item {display: flex;flex-direction: column;z-index: 1;position: relative;background-color: white;}#sk-container-id-1 div.sk-parallel-item:first-child::after {align-self: flex-end;width: 50%;}#sk-container-id-1 div.sk-parallel-item:last-child::after {align-self: flex-start;width: 50%;}#sk-container-id-1 div.sk-parallel-item:only-child::after {width: 0;}#sk-container-id-1 div.sk-dashed-wrapped {border: 1px dashed gray;margin: 0 0.4em 0.5em 0.4em;box-sizing: border-box;padding-bottom: 0.4em;background-color: white;}#sk-container-id-1 div.sk-label label {font-family: monospace;font-weight: bold;display: inline-block;line-height: 1.2em;}#sk-container-id-1 div.sk-label-container {text-align: center;}#sk-container-id-1 div.sk-container {/* jupyter's `normalize.less` sets `[hidden] { display: none; }` but bootstrap.min.css set `[hidden] { display: none !important; }` so we also need the `!important` here to be able to override the default hidden behavior on the sphinx rendered scikit-learn.org. See: https://github.com/scikit-learn/scikit-learn/issues/21755 */display: inline-block !important;position: relative;}#sk-container-id-1 div.sk-text-repr-fallback {display: none;}</style><div id=\"sk-container-id-1\" class=\"sk-top-container\"><div class=\"sk-text-repr-fallback\"><pre>XGBRanker(base_score=None, booster=None, callbacks=None, colsample_bylevel=None,\n",
       "          colsample_bynode=None, colsample_bytree=0.6940853675702088,\n",
       "          device=None, early_stopping_rounds=None, enable_categorical=False,\n",
       "          eval_metric=&#x27;map@7&#x27;, feature_types=None, gamma=None, grow_policy=None,\n",
       "          importance_type=None, interaction_constraints=None,\n",
       "          learning_rate=0.04420096546653645, max_bin=1024,\n",
       "          max_cat_threshold=None, max_cat_to_onehot=None, max_delta_step=None,\n",
       "          max_depth=12, max_leaves=None, min_child_weight=46, missing=nan,\n",
       "          monotone_constraints=None, multi_strategy=None, n_estimators=5000,\n",
       "          n_jobs=None, nthread=4, num_parallel_tree=None, ...)</pre><b>In a Jupyter environment, please rerun this cell to show the HTML representation or trust the notebook. <br />On GitHub, the HTML representation is unable to render, please try loading this page with nbviewer.org.</b></div><div class=\"sk-container\" hidden><div class=\"sk-item\"><div class=\"sk-estimator sk-toggleable\"><input class=\"sk-toggleable__control sk-hidden--visually\" id=\"sk-estimator-id-1\" type=\"checkbox\" checked><label for=\"sk-estimator-id-1\" class=\"sk-toggleable__label sk-toggleable__label-arrow\">XGBRanker</label><div class=\"sk-toggleable__content\"><pre>XGBRanker(base_score=None, booster=None, callbacks=None, colsample_bylevel=None,\n",
       "          colsample_bynode=None, colsample_bytree=0.6940853675702088,\n",
       "          device=None, early_stopping_rounds=None, enable_categorical=False,\n",
       "          eval_metric=&#x27;map@7&#x27;, feature_types=None, gamma=None, grow_policy=None,\n",
       "          importance_type=None, interaction_constraints=None,\n",
       "          learning_rate=0.04420096546653645, max_bin=1024,\n",
       "          max_cat_threshold=None, max_cat_to_onehot=None, max_delta_step=None,\n",
       "          max_depth=12, max_leaves=None, min_child_weight=46, missing=nan,\n",
       "          monotone_constraints=None, multi_strategy=None, n_estimators=5000,\n",
       "          n_jobs=None, nthread=4, num_parallel_tree=None, ...)</pre></div></div></div></div></div>"
      ],
      "text/plain": [
       "XGBRanker(base_score=None, booster=None, callbacks=None, colsample_bylevel=None,\n",
       "          colsample_bynode=None, colsample_bytree=0.6940853675702088,\n",
       "          device=None, early_stopping_rounds=None, enable_categorical=False,\n",
       "          eval_metric='map@7', feature_types=None, gamma=None, grow_policy=None,\n",
       "          importance_type=None, interaction_constraints=None,\n",
       "          learning_rate=0.04420096546653645, max_bin=1024,\n",
       "          max_cat_threshold=None, max_cat_to_onehot=None, max_delta_step=None,\n",
       "          max_depth=12, max_leaves=None, min_child_weight=46, missing=nan,\n",
       "          monotone_constraints=None, multi_strategy=None, n_estimators=5000,\n",
       "          n_jobs=None, nthread=4, num_parallel_tree=None, ...)"
      ]
     },
     "execution_count": 17,
     "metadata": {},
     "output_type": "execute_result"
    }
   ],
   "source": [
    "# --- Fit model ---\n",
    "ranker1.fit(\n",
    "    X_train, y_train,\n",
    "    group=group_train,\n",
    "    eval_set=[(X_train, y_train), (X_val, y_val)],\n",
    "    eval_group=[group_train, group_val],\n",
    "    early_stopping_rounds=200,\n",
    "    verbose=50   # Prints train + val scores every 100 rounds\n",
    ")"
   ]
  },
  {
   "cell_type": "code",
   "execution_count": 18,
   "metadata": {
    "execution": {
     "iopub.execute_input": "2025-07-27T05:32:23.543719Z",
     "iopub.status.busy": "2025-07-27T05:32:23.543508Z",
     "iopub.status.idle": "2025-07-27T05:32:26.336885Z",
     "shell.execute_reply": "2025-07-27T05:32:26.335972Z",
     "shell.execute_reply.started": "2025-07-27T05:32:23.543703Z"
    },
    "trusted": true
   },
   "outputs": [
    {
     "name": "stderr",
     "output_type": "stream",
     "text": [
      "/usr/local/lib/python3.11/dist-packages/xgboost/core.py:160: UserWarning: [05:32:23] WARNING: /workspace/src/common/error_msg.cc:27: The tree method `gpu_hist` is deprecated since 2.0.0. To use GPU training, set the `device` parameter to CUDA instead.\n",
      "\n",
      "    E.g. tree_method = \"hist\", device = \"cuda\"\n",
      "\n",
      "  warnings.warn(smsg, UserWarning)\n",
      "/usr/local/lib/python3.11/dist-packages/xgboost/core.py:160: UserWarning: [05:32:23] WARNING: /workspace/src/common/error_msg.cc:58: Falling back to prediction using DMatrix due to mismatched devices. This might lead to higher memory usage and slower performance. XGBoost is running on: cuda:0, while the input data is on: cpu.\n",
      "Potential solutions:\n",
      "- Use a data structure that matches the device ordinal in the booster.\n",
      "- Set the device for booster before call to inplace_predict.\n",
      "\n",
      "This warning will only be shown once.\n",
      "\n",
      "  warnings.warn(smsg, UserWarning)\n"
     ]
    },
    {
     "name": "stdout",
     "output_type": "stream",
     "text": [
      "Validation MAP@7: 0.80255\n"
     ]
    }
   ],
   "source": [
    "map_df = pd.DataFrame({\n",
    "    'user_id': val_df['id2'].reset_index(drop=True),\n",
    "    'item_id': val_df['id3'].reset_index(drop=True),\n",
    "    'y_true': y_val,\n",
    "    'y_pred': ranker1.predict(X_val, iteration_range=(0,ranker1.best_iteration+1))\n",
    "})\n",
    "# map_tr_df = pd.DataFrame({\n",
    "#     'user_id': train_df['id2'].reset_index(drop=True),\n",
    "#     'item_id': train_df['id3'].reset_index(drop=True),\n",
    "#     'y_true': y_train,\n",
    "#     'y_pred': ranker1.predict(X_train, iteration_range=(0,ranker1.best_iteration+1))\n",
    "# })\n",
    "\n",
    "def apk(actual, predicted, k=7):\n",
    "    if not actual:\n",
    "        return 0.0\n",
    "    predicted = predicted[:k]\n",
    "    score = 0.0\n",
    "    num_hits = 0.0\n",
    "    for i, p in enumerate(predicted):\n",
    "        if p in actual and p not in predicted[:i]:\n",
    "            num_hits += 1.0\n",
    "            score += num_hits / (i + 1.0)\n",
    "    return score / min(len(actual), k)\n",
    "\n",
    "def mapk(df, k=7):\n",
    "    average_precisions = []\n",
    "    for user_id, user_df in df.groupby('user_id'):\n",
    "        user_df_sorted = user_df.sort_values('y_pred', ascending=False)\n",
    "        predicted = user_df_sorted['item_id'].tolist()\n",
    "        actual = user_df_sorted[user_df_sorted['y_true'] == 1]['item_id'].tolist()\n",
    "        if actual:\n",
    "            ap = apk(actual, predicted, k)\n",
    "            average_precisions.append(ap)\n",
    "    return np.mean(average_precisions) if average_precisions else 0.0\n",
    "\n",
    "# 4. Compute MAP@7\n",
    "map7_score = mapk(map_df, k=7)\n",
    "print(f\"Validation MAP@7: {map7_score:.5f}\")\n",
    "# print(f\"Train MAP@7: {mapk(map_tr_df, k=7):.5f}\")"
   ]
  },
  {
   "cell_type": "code",
   "execution_count": 19,
   "metadata": {
    "execution": {
     "iopub.execute_input": "2025-07-27T05:32:26.338069Z",
     "iopub.status.busy": "2025-07-27T05:32:26.337749Z",
     "iopub.status.idle": "2025-07-27T05:32:27.118777Z",
     "shell.execute_reply": "2025-07-27T05:32:27.118063Z",
     "shell.execute_reply.started": "2025-07-27T05:32:26.338036Z"
    },
    "trusted": true
   },
   "outputs": [
    {
     "data": {
      "image/png": "[encoded data removed]",
      "text/plain": [
       "<Figure size 1000x600 with 1 Axes>"
      ]
     },
     "metadata": {},
     "output_type": "display_data"
    },
    {
     "data": {
      "image/png": "[encoded data removed]",
      "text/plain": [
       "<Figure size 1000x600 with 1 Axes>"
      ]
     },
     "metadata": {},
     "output_type": "display_data"
    }
   ],
   "source": [
    "import xgboost as xgb\n",
    "import matplotlib.pyplot as plt\n",
    "\n",
    "def plot_xgb_feature_importance(model, top_k=20, importance_type='gain'):\n",
    "    \"\"\"\n",
    "    Plots the top_k most important features based on the specified importance type.\n",
    "    \n",
    "    Args:\n",
    "        model: Trained XGBoost model (Booster object).\n",
    "        top_k: Number of top features to display.\n",
    "        importance_type: One of 'weight', 'gain', 'cover', 'total_gain', 'total_cover'.\n",
    "    \"\"\"\n",
    "    # Get feature importances\n",
    "    # importance_type = 'gain'  # or 'weight', 'cover', 'total_gain', 'total_cover'\n",
    "    importance = model.get_booster().get_score(importance_type=importance_type)\n",
    "\n",
    "    # Convert to DataFrame\n",
    "    importance_df = pd.DataFrame({\n",
    "        'feature': list(importance.keys()),\n",
    "        'importance': list(importance.values())\n",
    "    }).sort_values(by='importance', ascending=False).head(top_k)\n",
    "\n",
    "    # Plot\n",
    "    plt.figure(figsize=(10, 6))\n",
    "    plt.barh(importance_df['feature'][::-1], importance_df['importance'][::-1])\n",
    "    plt.xlabel(f'Importance ({importance_type})')\n",
    "    plt.title(f'Top {top_k} Feature Importances on xgb')\n",
    "    plt.tight_layout()\n",
    "    plt.show()\n",
    "\n",
    "# Usage example\n",
    "\n",
    "plot_xgb_feature_importance(ranker1, top_k=30, importance_type='gain')  # model is your trained xgb.Booster\n",
    "# Plot F-score (frequency-based) importance\n",
    "plot_xgb_feature_importance(ranker1, top_k=30, importance_type='weight')\n"
   ]
  },
  {
   "cell_type": "code",
   "execution_count": 20,
   "metadata": {
    "execution": {
     "iopub.execute_input": "2025-07-27T05:32:27.120027Z",
     "iopub.status.busy": "2025-07-27T05:32:27.119771Z",
     "iopub.status.idle": "2025-07-27T05:32:27.754727Z",
     "shell.execute_reply": "2025-07-27T05:32:27.753986Z",
     "shell.execute_reply.started": "2025-07-27T05:32:27.120000Z"
    },
    "trusted": true
   },
   "outputs": [
    {
     "data": {
      "image/png": "[encoded data removed]",
      "text/plain": [
       "<Figure size 1000x600 with 1 Axes>"
      ]
     },
     "metadata": {},
     "output_type": "display_data"
    }
   ],
   "source": [
    "import pandas as pd\n",
    "# Step 1: Extract gain-based importance\n",
    "importance_dict = ranker1.get_booster().get_score(importance_type='gain')\n",
    "# Step 2: Convert to DataFrame\n",
    "feat_imp_df = pd.DataFrame(list(importance_dict.items()), columns=['feature', 'gain'])\n",
    "# Step 3: Normalize to percentage\n",
    "feat_imp_df['gain_pct'] = 100 * feat_imp_df['gain'] / feat_imp_df['gain'].sum()\n",
    "feat_imp_df = feat_imp_df.sort_values(by='gain_pct', ascending=False)\n",
    "# Step 4: Save to XLSX\n",
    "feat_imp_df.to_excel(\"feature_importance_by_gain.xlsx\", index=False)\n",
    "\n",
    "import pandas as pd\n",
    "import matplotlib.pyplot as plt\n",
    "# Get feature importance dictionary from booster\n",
    "importance_dict = ranker1.get_booster().get_score(importance_type='gain')\n",
    "# Convert to DataFrame\n",
    "feat_imp_df = pd.DataFrame(list(importance_dict.items()), columns=['feature', 'gain'])\n",
    "# Normalize to percentage\n",
    "feat_imp_df['gain_pct'] = 100 * feat_imp_df['gain'] / feat_imp_df['gain'].sum()\n",
    "# Sort descending\n",
    "feat_imp_df = feat_imp_df.sort_values(by='gain_pct', ascending=False)\n",
    "plt.figure(figsize=(10, 6))\n",
    "top_n = 20  # adjust to view more/less\n",
    "plt.barh(feat_imp_df['feature'][:top_n][::-1], feat_imp_df['gain_pct'][:top_n][::-1], color='skyblue')\n",
    "plt.xlabel(\"Feature Importance (% Gain)\")\n",
    "plt.title(f\"Top {top_n} Features by Gain\")\n",
    "plt.tight_layout()\n",
    "plt.show()"
   ]
  },
  {
   "cell_type": "code",
   "execution_count": null,
   "metadata": {
    "execution": {
     "iopub.execute_input": "2025-07-27T05:32:44.746074Z",
     "iopub.status.busy": "2025-07-27T05:32:44.745409Z",
     "iopub.status.idle": "2025-07-27T05:32:56.303983Z",
     "shell.execute_reply": "2025-07-27T05:32:56.302992Z",
     "shell.execute_reply.started": "2025-07-27T05:32:44.746050Z"
    },
    "trusted": true
   },
   "outputs": [],
   "source": [
    "#  Compute within-test history features (no labels)\n",
    "if 'id3' in train_df.columns:\n",
    "    offer_agg = df.groupby('id3')['y'].agg(\n",
    "        offer_total_interactions=('count'),\n",
    "        offer_total_positives=('sum')\n",
    "    ).assign(\n",
    "        offer_ctr=lambda df: df['offer_total_positives'] / df['offer_total_interactions'].replace(0, 1)\n",
    "    )\n",
    "    test_df = test_df.merge(offer_agg, on='id3', how='left').fillna(0)\n",
    "\n",
    "# 4) Drop IDs, encode, align, predict\n",
    "def drop_unwanted_ids(df):\n",
    "    return df.drop(columns=[c for c in df.columns if c.startswith('id') and c!='id3'],\n",
    "                   errors='ignore')\n",
    "\n",
    "X_test = drop_unwanted_ids(\n",
    "    test_df.drop(columns=['id4','user_prev_time'],errors='ignore')\n",
    ")"
   ]
  },
  {
   "cell_type": "code",
   "execution_count": 22,
   "metadata": {
    "execution": {
     "iopub.execute_input": "2025-07-27T05:33:14.132720Z",
     "iopub.status.busy": "2025-07-27T05:33:14.132171Z",
     "iopub.status.idle": "2025-07-27T05:35:36.187724Z",
     "shell.execute_reply": "2025-07-27T05:35:36.187130Z",
     "shell.execute_reply.started": "2025-07-27T05:33:14.132697Z"
    },
    "trusted": true
   },
   "outputs": [
    {
     "name": "stderr",
     "output_type": "stream",
     "text": [
      "100%|██████████| 329/329 [02:17<00:00,  2.39it/s]\n"
     ]
    }
   ],
   "source": [
    "#  Ensure same column order\n",
    "X_test = X_test[X_train.columns].copy()\n",
    "X_test = X_test.sort_index(axis=1)\n",
    "\n",
    "for col in tqdm(X_test.select_dtypes(include='object').columns):\n",
    "    try:\n",
    "        # 1) Try numeric conversion\n",
    "        X_test[col] = pd.to_numeric(X_test[col])\n",
    "        continue\n",
    "    except:\n",
    "        # 2) Only non‑numeric columns reach here:\n",
    "        X_test[col] = X_test[col].astype(str).fillna(\"NA\")\n",
    "\n",
    "        if col in encoders:\n",
    "            # 3a) Re‑use your saved encoder\n",
    "            le          = encoders[col]\n",
    "            unseen_code = UNSEEN_CODE[col]\n",
    "            X_test[col] = X_test[col].map(\n",
    "                lambda v: int(le.transform([v])[0]) if v in le.classes_ else unseen_code\n",
    "            )\n",
    "        else:\n",
    "            # 3b) Brand‑new column\n",
    "            le = LabelEncoder().fit(X_test[col])\n",
    "            X_test[col] = le.transform(X_test[col])\n",
    "            encoders[col]    = le\n",
    "            UNSEEN_CODE[col] = le.classes_.shape[0]"
   ]
  },
  {
   "cell_type": "code",
   "execution_count": 23,
   "metadata": {
    "execution": {
     "iopub.execute_input": "2025-07-27T05:35:36.189062Z",
     "iopub.status.busy": "2025-07-27T05:35:36.188838Z",
     "iopub.status.idle": "2025-07-27T05:35:36.192803Z",
     "shell.execute_reply": "2025-07-27T05:35:36.192130Z",
     "shell.execute_reply.started": "2025-07-27T05:35:36.189045Z"
    },
    "trusted": true
   },
   "outputs": [],
   "source": [
    "def sigmoid(x):\n",
    "    return 1/(1+np.exp(-x))"
   ]
  },
  {
   "cell_type": "code",
   "execution_count": 24,
   "metadata": {
    "execution": {
     "iopub.execute_input": "2025-07-27T05:35:36.193659Z",
     "iopub.status.busy": "2025-07-27T05:35:36.193462Z",
     "iopub.status.idle": "2025-07-27T05:35:39.180486Z",
     "shell.execute_reply": "2025-07-27T05:35:39.179832Z",
     "shell.execute_reply.started": "2025-07-27T05:35:36.193641Z"
    },
    "trusted": true
   },
   "outputs": [],
   "source": [
    "test_preds1 = ranker1.predict(X_test,iteration_range=(0, ranker1.best_iteration + 1))\n",
    "test_df['y_pred']=sigmoid(test_preds1)"
   ]
  },
  {
   "cell_type": "code",
   "execution_count": 25,
   "metadata": {
    "execution": {
     "iopub.execute_input": "2025-07-27T05:35:39.182579Z",
     "iopub.status.busy": "2025-07-27T05:35:39.182082Z",
     "iopub.status.idle": "2025-07-27T05:35:41.304413Z",
     "shell.execute_reply": "2025-07-27T05:35:41.303620Z",
     "shell.execute_reply.started": "2025-07-27T05:35:39.182557Z"
    },
    "trusted": true
   },
   "outputs": [
    {
     "name": "stdout",
     "output_type": "stream",
     "text": [
      "✅ Filled predictions. 🔍 Missing matches: 0\n"
     ]
    }
   ],
   "source": [
    "import numpy as np\n",
    "sub = pd.read_csv('/kaggle/input/sub-temp-r3/submission_template_r3.csv')\n",
    "# Add y_pred to test_df\n",
    "test_df = test_df.copy()\n",
    "# test_df['pred'] = y_pred\n",
    "\n",
    "# Ensure test_df has column named 'id1'\n",
    "if test_df.columns[0] != 'id1':\n",
    "    test_df.rename(columns={test_df.columns[0]: 'id1'}, inplace=True)\n",
    "\n",
    "# Build a mapping: id1 → pred\n",
    "id_to_pred = dict(zip(test_df['id1'], test_df['y_pred']))\n",
    "\n",
    "# Fill predictions in submission\n",
    "sub['pred'] = sub['id1'].map(id_to_pred)\n",
    "\n",
    "# Check if any were not matched\n",
    "missing = sub['pred'].isna().sum()\n",
    "print(f\"✅ Filled predictions. 🔍 Missing matches: {missing}\")"
   ]
  },
  {
   "cell_type": "code",
   "execution_count": 28,
   "metadata": {
    "execution": {
     "iopub.execute_input": "2025-07-27T05:37:02.532429Z",
     "iopub.status.busy": "2025-07-27T05:37:02.532130Z",
     "iopub.status.idle": "2025-07-27T05:37:03.936729Z",
     "shell.execute_reply": "2025-07-27T05:37:03.936142Z",
     "shell.execute_reply.started": "2025-07-27T05:37:02.532409Z"
    },
    "trusted": true
   },
   "outputs": [],
   "source": [
    "sub.to_csv('r3_submission_file<RPM>.csv',index=False)"
   ]
  },
  {
   "cell_type": "code",
   "execution_count": 26,
   "metadata": {
    "execution": {
     "iopub.execute_input": "2025-07-27T05:35:41.305600Z",
     "iopub.status.busy": "2025-07-27T05:35:41.305350Z",
     "iopub.status.idle": "2025-07-27T05:35:41.324483Z",
     "shell.execute_reply": "2025-07-27T05:35:41.323859Z",
     "shell.execute_reply.started": "2025-07-27T05:35:41.305582Z"
    },
    "trusted": true
   },
   "outputs": [
    {
     "data": {
      "text/html": [
       "<div>\n",
       "<style scoped>\n",
       "    .dataframe tbody tr th:only-of-type {\n",
       "        vertical-align: middle;\n",
       "    }\n",
       "\n",
       "    .dataframe tbody tr th {\n",
       "        vertical-align: top;\n",
       "    }\n",
       "\n",
       "    .dataframe thead th {\n",
       "        text-align: right;\n",
       "    }\n",
       "</style>\n",
       "<table border=\"1\" class=\"dataframe\">\n",
       "  <thead>\n",
       "    <tr style=\"text-align: right;\">\n",
       "      <th></th>\n",
       "      <th>id1</th>\n",
       "      <th>id2</th>\n",
       "      <th>id3</th>\n",
       "      <th>id5</th>\n",
       "      <th>pred</th>\n",
       "    </tr>\n",
       "  </thead>\n",
       "  <tbody>\n",
       "    <tr>\n",
       "      <th>0</th>\n",
       "      <td>1312431_97715251_16-23_2023-11-06 15:46:57.950</td>\n",
       "      <td>1312431</td>\n",
       "      <td>97715251</td>\n",
       "      <td>2023-11-06</td>\n",
       "      <td>0.005730</td>\n",
       "    </tr>\n",
       "    <tr>\n",
       "      <th>1</th>\n",
       "      <td>1312431_69026_16-23_2023-11-06 15:47:52.848</td>\n",
       "      <td>1312431</td>\n",
       "      <td>69026</td>\n",
       "      <td>2023-11-06</td>\n",
       "      <td>0.051800</td>\n",
       "    </tr>\n",
       "    <tr>\n",
       "      <th>2</th>\n",
       "      <td>1312431_521695_16-23_2023-11-06 15:47:52.817</td>\n",
       "      <td>1312431</td>\n",
       "      <td>521695</td>\n",
       "      <td>2023-11-06</td>\n",
       "      <td>0.002635</td>\n",
       "    </tr>\n",
       "    <tr>\n",
       "      <th>3</th>\n",
       "      <td>1312431_43258448_16-23_2023-11-06 15:46:57.905</td>\n",
       "      <td>1312431</td>\n",
       "      <td>43258448</td>\n",
       "      <td>2023-11-06</td>\n",
       "      <td>0.042974</td>\n",
       "    </tr>\n",
       "    <tr>\n",
       "      <th>4</th>\n",
       "      <td>1312431_633765_16-23_2023-11-06 15:47:52.765</td>\n",
       "      <td>1312431</td>\n",
       "      <td>633765</td>\n",
       "      <td>2023-11-06</td>\n",
       "      <td>0.095354</td>\n",
       "    </tr>\n",
       "    <tr>\n",
       "      <th>...</th>\n",
       "      <td>...</td>\n",
       "      <td>...</td>\n",
       "      <td>...</td>\n",
       "      <td>...</td>\n",
       "      <td>...</td>\n",
       "    </tr>\n",
       "    <tr>\n",
       "      <th>337709</th>\n",
       "      <td>1362907_94064959_16-23_2023-11-04 18:57:12.105</td>\n",
       "      <td>1362907</td>\n",
       "      <td>94064959</td>\n",
       "      <td>2023-11-04</td>\n",
       "      <td>0.011915</td>\n",
       "    </tr>\n",
       "    <tr>\n",
       "      <th>337710</th>\n",
       "      <td>1362907_960643_16-23_2023-11-04 18:54:25.763</td>\n",
       "      <td>1362907</td>\n",
       "      <td>960643</td>\n",
       "      <td>2023-11-04</td>\n",
       "      <td>0.019712</td>\n",
       "    </tr>\n",
       "    <tr>\n",
       "      <th>337711</th>\n",
       "      <td>1362907_433824_16-23_2023-11-04 18:51:31.349</td>\n",
       "      <td>1362907</td>\n",
       "      <td>433824</td>\n",
       "      <td>2023-11-04</td>\n",
       "      <td>0.214908</td>\n",
       "    </tr>\n",
       "    <tr>\n",
       "      <th>337712</th>\n",
       "      <td>1362907_99856_16-23_2023-11-04 18:54:26.768</td>\n",
       "      <td>1362907</td>\n",
       "      <td>99856</td>\n",
       "      <td>2023-11-04</td>\n",
       "      <td>0.003294</td>\n",
       "    </tr>\n",
       "    <tr>\n",
       "      <th>337713</th>\n",
       "      <td>1362907_1416_16-23_2023-11-04 18:56:20.296</td>\n",
       "      <td>1362907</td>\n",
       "      <td>1416</td>\n",
       "      <td>2023-11-04</td>\n",
       "      <td>0.088105</td>\n",
       "    </tr>\n",
       "  </tbody>\n",
       "</table>\n",
       "<p>337714 rows × 5 columns</p>\n",
       "</div>"
      ],
      "text/plain": [
       "                                                   id1      id2       id3  \\\n",
       "0       1312431_97715251_16-23_2023-11-06 15:46:57.950  1312431  97715251   \n",
       "1          1312431_69026_16-23_2023-11-06 15:47:52.848  1312431     69026   \n",
       "2         1312431_521695_16-23_2023-11-06 15:47:52.817  1312431    521695   \n",
       "3       1312431_43258448_16-23_2023-11-06 15:46:57.905  1312431  43258448   \n",
       "4         1312431_633765_16-23_2023-11-06 15:47:52.765  1312431    633765   \n",
       "...                                                ...      ...       ...   \n",
       "337709  1362907_94064959_16-23_2023-11-04 18:57:12.105  1362907  94064959   \n",
       "337710    1362907_960643_16-23_2023-11-04 18:54:25.763  1362907    960643   \n",
       "337711    1362907_433824_16-23_2023-11-04 18:51:31.349  1362907    433824   \n",
       "337712     1362907_99856_16-23_2023-11-04 18:54:26.768  1362907     99856   \n",
       "337713      1362907_1416_16-23_2023-11-04 18:56:20.296  1362907      1416   \n",
       "\n",
       "               id5      pred  \n",
       "0       2023-11-06  0.005730  \n",
       "1       2023-11-06  0.051800  \n",
       "2       2023-11-06  0.002635  \n",
       "3       2023-11-06  0.042974  \n",
       "4       2023-11-06  0.095354  \n",
       "...            ...       ...  \n",
       "337709  2023-11-04  0.011915  \n",
       "337710  2023-11-04  0.019712  \n",
       "337711  2023-11-04  0.214908  \n",
       "337712  2023-11-04  0.003294  \n",
       "337713  2023-11-04  0.088105  \n",
       "\n",
       "[337714 rows x 5 columns]"
      ]
     },
     "execution_count": 26,
     "metadata": {},
     "output_type": "execute_result"
    }
   ],
   "source": [
    "sub"
   ]
  },
  {
   "cell_type": "code",
   "execution_count": null,
   "metadata": {
    "trusted": true
   },
   "outputs": [],
   "source": []
  }
 ],
 "metadata": {
  "kaggle": {
   "accelerator": "gpu",
   "dataSources": [
    {
     "datasetId": 7791034,
     "sourceId": 12357795,
     "sourceType": "datasetVersion"
    },
    {
     "datasetId": 7922085,
     "sourceId": 12547324,
     "sourceType": "datasetVersion"
    },
    {
     "datasetId": 7950477,
     "sourceId": 12588248,
     "sourceType": "datasetVersion"
    }
   ],
   "dockerImageVersionId": 31090,
   "isGpuEnabled": true,
   "isInternetEnabled": true,
   "language": "python",
   "sourceType": "notebook"
  },
  "kernelspec": {
   "display_name": "Python 3",
   "language": "python",
   "name": "python3"
  },
  "language_info": {
   "codemirror_mode": {
    "name": "ipython",
    "version": 3
   },
   "file_extension": ".py",
   "mimetype": "text/x-python",
   "name": "python",
   "nbconvert_exporter": "python",
   "pygments_lexer": "ipython3",
   "version": "3.11.13"
  }
 },
 "nbformat": 4,
 "nbformat_minor": 4
}
